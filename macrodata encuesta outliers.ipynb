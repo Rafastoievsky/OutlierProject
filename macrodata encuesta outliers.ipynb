{
 "cells": [
  {
   "cell_type": "code",
   "execution_count": 372,
   "metadata": {},
   "outputs": [],
   "source": [
    "import pandas as pd\n",
    "import numpy as np\n",
    "import matplotlib.pyplot as plt\n",
    "import seaborn as sns\n",
    "import glob\n",
    "import re\n",
    "%matplotlib inline"
   ]
  },
  {
   "cell_type": "markdown",
   "metadata": {},
   "source": [
    "### Union de 4 tablas\n",
    "\n",
    "Union de 4 tablas (en formato csv) con datos de encuestas, fueron unidas en un solo dataframe con el nombre de \"encuesta\""
   ]
  },
  {
   "cell_type": "code",
   "execution_count": 373,
   "metadata": {},
   "outputs": [],
   "source": [
    "encuesta = pd.concat([pd.read_csv(f, encoding='UTF-8') \n",
    "                      for f in glob.glob('./data/ENCUESTA_*_Responses.csv')], ignore_index=True)"
   ]
  },
  {
   "cell_type": "code",
   "execution_count": 374,
   "metadata": {},
   "outputs": [
    {
     "data": {
      "text/plain": [
       "(5823, 164)"
      ]
     },
     "execution_count": 374,
     "metadata": {},
     "output_type": "execute_result"
    }
   ],
   "source": [
    "encuesta.shape # el nuevo DatFrame consta de 5823 renglones y 164 columnas"
   ]
  },
  {
   "cell_type": "code",
   "execution_count": 375,
   "metadata": {},
   "outputs": [
    {
     "data": {
      "text/plain": [
       "Index(['Date Collected', 'Date Sent', 'Duration (seconds)', 'User', 'Latitude',\n",
       "       'Longitude', 'Ubicación', 'Municipio', 'Sección Electoral', 'Manzana',\n",
       "       ...\n",
       "       '¿Algún otro canal de televisión de paga que se le venga a la mente? (NO DAR OPCIONES, RESPUESTA ESPONTÁNEA).1',\n",
       "       'Pensando en las estaciones de radio que escucha normalmente, ¿cuál es la primera estación de radio que se le viene a la mente? (NO DAR OPCIONES, RESPUESTA ESPONTÁNEA)',\n",
       "       '¿Alguna otra estación de radio que se le venga a la mente?',\n",
       "       '¿Alguna otra estación de radio que se le venga a la mente?.1',\n",
       "       '¿Estaría dispuesto o no estaría dispuesto a participar en una sesión de grupo de 2 horas, en donde se le diera un incentivo de 300 pesos para comentar sobre temas de política?',\n",
       "       '¿Por qué?', '¿Me podría dar su número celular para que lo contacten?',\n",
       "       '¿Cuál es el total de cuartos, piezas o habitaciones con las que cuenta su hogar? Por favor no incluya baños, medios baños, pasillos, patios y zotehuelas',\n",
       "       '¿Cuántos baños con regadera y W.C. (Excusado) hay para uso exclusivo de los integrantes de su hogar?',\n",
       "       '¿Cuál es su domicilio?'],\n",
       "      dtype='object', length=164)"
      ]
     },
     "execution_count": 375,
     "metadata": {},
     "output_type": "execute_result"
    }
   ],
   "source": [
    "encuesta.columns # columnas de nuestro dataframe"
   ]
  },
  {
   "cell_type": "markdown",
   "metadata": {},
   "source": [
    "### Seleccion de las primeras 15"
   ]
  },
  {
   "cell_type": "code",
   "execution_count": 376,
   "metadata": {},
   "outputs": [
    {
     "data": {
      "text/html": [
       "<div>\n",
       "<style scoped>\n",
       "    .dataframe tbody tr th:only-of-type {\n",
       "        vertical-align: middle;\n",
       "    }\n",
       "\n",
       "    .dataframe tbody tr th {\n",
       "        vertical-align: top;\n",
       "    }\n",
       "\n",
       "    .dataframe thead th {\n",
       "        text-align: right;\n",
       "    }\n",
       "</style>\n",
       "<table border=\"1\" class=\"dataframe\">\n",
       "  <thead>\n",
       "    <tr style=\"text-align: right;\">\n",
       "      <th></th>\n",
       "      <th>Date Collected</th>\n",
       "      <th>Date Sent</th>\n",
       "      <th>Duration (seconds)</th>\n",
       "      <th>User</th>\n",
       "      <th>Latitude</th>\n",
       "      <th>Longitude</th>\n",
       "      <th>Ubicación</th>\n",
       "      <th>Municipio</th>\n",
       "      <th>Sección Electoral</th>\n",
       "      <th>Manzana</th>\n",
       "      <th>Buenas tardes vengo de parte de CABILDO Agencia de Consultoría a realizar una consulta popular. Estamos haciendo una investigación cuyo objetivo es conocer las opiniones de la población. Necesitamos hablar unos minutos con una persona que tenga 18 años o más para antes del próximo 1 de julio, que viva aquí, que esté en este momento y que tenga su credencial de elector de este municipio. ¿Hay alguna persona que cumpla con estos requisitos?</th>\n",
       "      <th>Usted es una de las personas que hemos elegido para este estudio, ¿me permitiría unos minutos para hacerle algunas preguntas? La entrevista es anónima y la información que nos proporcione es estrictamente confidencial y solo se utilizará con fines estadísticos. No necesito saber su nombre u otros datos que lo identifiquen, solo sus respuestas sinceras. Si prefiere no responder alguna pregunta, dígame y pasamos a la siguiente.</th>\n",
       "      <th>Género</th>\n",
       "      <th>¿Cuántos años cumplidos tiene usted?</th>\n",
       "      <th>En las pasadas elecciones de 2015, ¿usted asistió a votar o no asistió a votar?</th>\n",
       "    </tr>\n",
       "  </thead>\n",
       "  <tbody>\n",
       "    <tr>\n",
       "      <th>0</th>\n",
       "      <td>2018-06-14 11:53:47 -0600</td>\n",
       "      <td>2018-06-14 14:11:52 -0600</td>\n",
       "      <td>682</td>\n",
       "      <td>Sonora01</td>\n",
       "      <td>26.390231</td>\n",
       "      <td>-109.115619</td>\n",
       "      <td>26,390521,-109,116739</td>\n",
       "      <td>Huatabampo</td>\n",
       "      <td>1228.0</td>\n",
       "      <td>3.0</td>\n",
       "      <td>Yes</td>\n",
       "      <td>Si acepta entrevista</td>\n",
       "      <td>Female</td>\n",
       "      <td>45 a 49 años</td>\n",
       "      <td>Sí asistió</td>\n",
       "    </tr>\n",
       "    <tr>\n",
       "      <th>1</th>\n",
       "      <td>2018-05-08 11:06:58 -0600</td>\n",
       "      <td>2018-05-08 11:07:00 -0600</td>\n",
       "      <td>461</td>\n",
       "      <td>Sonora01</td>\n",
       "      <td>29.157507</td>\n",
       "      <td>-111.010630</td>\n",
       "      <td>29.157242,-111.010227</td>\n",
       "      <td>Hermosillo</td>\n",
       "      <td>1334.0</td>\n",
       "      <td>571.0</td>\n",
       "      <td>Yes</td>\n",
       "      <td>Si acepta entrevista</td>\n",
       "      <td>Female</td>\n",
       "      <td>60 a 64 años</td>\n",
       "      <td>Sí asistió</td>\n",
       "    </tr>\n",
       "    <tr>\n",
       "      <th>2</th>\n",
       "      <td>2018-04-17 20:38:33 -0600</td>\n",
       "      <td>2018-04-17 20:38:35 -0600</td>\n",
       "      <td>384</td>\n",
       "      <td>Sonora10</td>\n",
       "      <td>27.562943</td>\n",
       "      <td>-109.931075</td>\n",
       "      <td>27.563267,-109.931091</td>\n",
       "      <td>Cajeme</td>\n",
       "      <td>951.0</td>\n",
       "      <td>31.0</td>\n",
       "      <td>Yes</td>\n",
       "      <td>Si acepta entrevista</td>\n",
       "      <td>Male</td>\n",
       "      <td>45 a 49 años</td>\n",
       "      <td>Sí asistió</td>\n",
       "    </tr>\n",
       "    <tr>\n",
       "      <th>3</th>\n",
       "      <td>2018-04-17 17:34:00 -0600</td>\n",
       "      <td>2018-04-17 17:35:03 -0600</td>\n",
       "      <td>1742</td>\n",
       "      <td>Sonora09</td>\n",
       "      <td>29.054577</td>\n",
       "      <td>-111.011745</td>\n",
       "      <td>29.054419,-111.011722</td>\n",
       "      <td>Hermosillo</td>\n",
       "      <td>1404.0</td>\n",
       "      <td>28.0</td>\n",
       "      <td>Yes</td>\n",
       "      <td>Si acepta entrevista</td>\n",
       "      <td>Female</td>\n",
       "      <td>45 a 49 años</td>\n",
       "      <td>Sí asistió</td>\n",
       "    </tr>\n",
       "    <tr>\n",
       "      <th>4</th>\n",
       "      <td>2018-04-17 17:03:23 -0600</td>\n",
       "      <td>2018-04-17 17:04:26 -0600</td>\n",
       "      <td>669</td>\n",
       "      <td>Sonora09</td>\n",
       "      <td>29.112673</td>\n",
       "      <td>-111.047853</td>\n",
       "      <td>29.111939,-111.047761</td>\n",
       "      <td>Hermosillo</td>\n",
       "      <td>1481.0</td>\n",
       "      <td>90.0</td>\n",
       "      <td>Yes</td>\n",
       "      <td>Si acepta entrevista</td>\n",
       "      <td>Female</td>\n",
       "      <td>45 a 49 años</td>\n",
       "      <td>Sí asistió</td>\n",
       "    </tr>\n",
       "    <tr>\n",
       "      <th>...</th>\n",
       "      <td>...</td>\n",
       "      <td>...</td>\n",
       "      <td>...</td>\n",
       "      <td>...</td>\n",
       "      <td>...</td>\n",
       "      <td>...</td>\n",
       "      <td>...</td>\n",
       "      <td>...</td>\n",
       "      <td>...</td>\n",
       "      <td>...</td>\n",
       "      <td>...</td>\n",
       "      <td>...</td>\n",
       "      <td>...</td>\n",
       "      <td>...</td>\n",
       "      <td>...</td>\n",
       "    </tr>\n",
       "    <tr>\n",
       "      <th>5818</th>\n",
       "      <td>07/03/18 12:05</td>\n",
       "      <td>07/03/18 15:59</td>\n",
       "      <td>44</td>\n",
       "      <td>Electoral3</td>\n",
       "      <td>29.005548</td>\n",
       "      <td>-110.939164</td>\n",
       "      <td>NaN</td>\n",
       "      <td>Hermosillo</td>\n",
       "      <td>NaN</td>\n",
       "      <td>99.0</td>\n",
       "      <td>NaN</td>\n",
       "      <td>No acepta entrevista</td>\n",
       "      <td>NaN</td>\n",
       "      <td>NaN</td>\n",
       "      <td>NaN</td>\n",
       "    </tr>\n",
       "    <tr>\n",
       "      <th>5819</th>\n",
       "      <td>07/03/18 11:59</td>\n",
       "      <td>07/03/18 15:54</td>\n",
       "      <td>152</td>\n",
       "      <td>Electoral1</td>\n",
       "      <td>29.005515</td>\n",
       "      <td>-110.939109</td>\n",
       "      <td>NaN</td>\n",
       "      <td>Hermosillo</td>\n",
       "      <td>NaN</td>\n",
       "      <td>9999.0</td>\n",
       "      <td>NaN</td>\n",
       "      <td>NaN</td>\n",
       "      <td>NaN</td>\n",
       "      <td>NaN</td>\n",
       "      <td>NaN</td>\n",
       "    </tr>\n",
       "    <tr>\n",
       "      <th>5820</th>\n",
       "      <td>07/03/18 11:59</td>\n",
       "      <td>07/03/18 15:59</td>\n",
       "      <td>134</td>\n",
       "      <td>Electoral3</td>\n",
       "      <td>29.005544</td>\n",
       "      <td>-110.939155</td>\n",
       "      <td>NaN</td>\n",
       "      <td>Hermosillo</td>\n",
       "      <td>NaN</td>\n",
       "      <td>99.0</td>\n",
       "      <td>NaN</td>\n",
       "      <td>NaN</td>\n",
       "      <td>NaN</td>\n",
       "      <td>NaN</td>\n",
       "      <td>NaN</td>\n",
       "    </tr>\n",
       "    <tr>\n",
       "      <th>5821</th>\n",
       "      <td>07/03/18 11:59</td>\n",
       "      <td>07/03/18 16:19</td>\n",
       "      <td>59</td>\n",
       "      <td>Electoral2</td>\n",
       "      <td>29.005575</td>\n",
       "      <td>-110.939225</td>\n",
       "      <td>NaN</td>\n",
       "      <td>Hermosillo</td>\n",
       "      <td>NaN</td>\n",
       "      <td>99.0</td>\n",
       "      <td>NaN</td>\n",
       "      <td>NaN</td>\n",
       "      <td>NaN</td>\n",
       "      <td>NaN</td>\n",
       "      <td>NaN</td>\n",
       "    </tr>\n",
       "    <tr>\n",
       "      <th>5822</th>\n",
       "      <td>07/03/18 11:59</td>\n",
       "      <td>07/03/18 16:13</td>\n",
       "      <td>155</td>\n",
       "      <td>Electoral4</td>\n",
       "      <td>29.005562</td>\n",
       "      <td>-110.939203</td>\n",
       "      <td>NaN</td>\n",
       "      <td>Herosillo</td>\n",
       "      <td>NaN</td>\n",
       "      <td>99.0</td>\n",
       "      <td>NaN</td>\n",
       "      <td>NaN</td>\n",
       "      <td>NaN</td>\n",
       "      <td>NaN</td>\n",
       "      <td>NaN</td>\n",
       "    </tr>\n",
       "  </tbody>\n",
       "</table>\n",
       "<p>5823 rows × 15 columns</p>\n",
       "</div>"
      ],
      "text/plain": [
       "                 Date Collected                  Date Sent  \\\n",
       "0     2018-06-14 11:53:47 -0600  2018-06-14 14:11:52 -0600   \n",
       "1     2018-05-08 11:06:58 -0600  2018-05-08 11:07:00 -0600   \n",
       "2     2018-04-17 20:38:33 -0600  2018-04-17 20:38:35 -0600   \n",
       "3     2018-04-17 17:34:00 -0600  2018-04-17 17:35:03 -0600   \n",
       "4     2018-04-17 17:03:23 -0600  2018-04-17 17:04:26 -0600   \n",
       "...                         ...                        ...   \n",
       "5818             07/03/18 12:05             07/03/18 15:59   \n",
       "5819             07/03/18 11:59             07/03/18 15:54   \n",
       "5820             07/03/18 11:59             07/03/18 15:59   \n",
       "5821             07/03/18 11:59             07/03/18 16:19   \n",
       "5822             07/03/18 11:59             07/03/18 16:13   \n",
       "\n",
       "      Duration (seconds)        User   Latitude   Longitude  \\\n",
       "0                    682    Sonora01  26.390231 -109.115619   \n",
       "1                    461    Sonora01  29.157507 -111.010630   \n",
       "2                    384    Sonora10  27.562943 -109.931075   \n",
       "3                   1742    Sonora09  29.054577 -111.011745   \n",
       "4                    669    Sonora09  29.112673 -111.047853   \n",
       "...                  ...         ...        ...         ...   \n",
       "5818                  44  Electoral3  29.005548 -110.939164   \n",
       "5819                 152  Electoral1  29.005515 -110.939109   \n",
       "5820                 134  Electoral3  29.005544 -110.939155   \n",
       "5821                  59  Electoral2  29.005575 -110.939225   \n",
       "5822                 155  Electoral4  29.005562 -110.939203   \n",
       "\n",
       "                  Ubicación   Municipio  Sección Electoral  Manzana  \\\n",
       "0     26,390521,-109,116739  Huatabampo             1228.0      3.0   \n",
       "1     29.157242,-111.010227  Hermosillo             1334.0    571.0   \n",
       "2     27.563267,-109.931091      Cajeme              951.0     31.0   \n",
       "3     29.054419,-111.011722  Hermosillo             1404.0     28.0   \n",
       "4     29.111939,-111.047761  Hermosillo             1481.0     90.0   \n",
       "...                     ...         ...                ...      ...   \n",
       "5818                    NaN  Hermosillo                NaN     99.0   \n",
       "5819                    NaN  Hermosillo                NaN   9999.0   \n",
       "5820                    NaN  Hermosillo                NaN     99.0   \n",
       "5821                    NaN  Hermosillo                NaN     99.0   \n",
       "5822                    NaN   Herosillo                NaN     99.0   \n",
       "\n",
       "     Buenas tardes vengo de parte de CABILDO Agencia de Consultoría a realizar una consulta popular. Estamos haciendo una investigación cuyo objetivo es conocer las opiniones de la población. Necesitamos hablar unos minutos con una persona que tenga 18 años o más para antes del próximo 1 de julio, que viva aquí, que esté en este momento y que tenga su credencial de elector de este municipio. ¿Hay alguna persona que cumpla con estos requisitos?  \\\n",
       "0                                                   Yes                                                                                                                                                                                                                                                                                                                                                                                                           \n",
       "1                                                   Yes                                                                                                                                                                                                                                                                                                                                                                                                           \n",
       "2                                                   Yes                                                                                                                                                                                                                                                                                                                                                                                                           \n",
       "3                                                   Yes                                                                                                                                                                                                                                                                                                                                                                                                           \n",
       "4                                                   Yes                                                                                                                                                                                                                                                                                                                                                                                                           \n",
       "...                                                 ...                                                                                                                                                                                                                                                                                                                                                                                                           \n",
       "5818                                                NaN                                                                                                                                                                                                                                                                                                                                                                                                           \n",
       "5819                                                NaN                                                                                                                                                                                                                                                                                                                                                                                                           \n",
       "5820                                                NaN                                                                                                                                                                                                                                                                                                                                                                                                           \n",
       "5821                                                NaN                                                                                                                                                                                                                                                                                                                                                                                                           \n",
       "5822                                                NaN                                                                                                                                                                                                                                                                                                                                                                                                           \n",
       "\n",
       "     Usted es una de las personas que hemos elegido para este estudio, ¿me permitiría unos minutos para hacerle algunas preguntas? La entrevista es anónima y la información que nos proporcione es estrictamente confidencial y solo se utilizará con fines estadísticos. No necesito saber su nombre u otros datos que lo identifiquen, solo sus respuestas sinceras. Si prefiere no responder alguna pregunta, dígame y pasamos a la siguiente.  \\\n",
       "0                                  Si acepta entrevista                                                                                                                                                                                                                                                                                                                                                                                              \n",
       "1                                  Si acepta entrevista                                                                                                                                                                                                                                                                                                                                                                                              \n",
       "2                                  Si acepta entrevista                                                                                                                                                                                                                                                                                                                                                                                              \n",
       "3                                  Si acepta entrevista                                                                                                                                                                                                                                                                                                                                                                                              \n",
       "4                                  Si acepta entrevista                                                                                                                                                                                                                                                                                                                                                                                              \n",
       "...                                                 ...                                                                                                                                                                                                                                                                                                                                                                                              \n",
       "5818                               No acepta entrevista                                                                                                                                                                                                                                                                                                                                                                                              \n",
       "5819                                                NaN                                                                                                                                                                                                                                                                                                                                                                                              \n",
       "5820                                                NaN                                                                                                                                                                                                                                                                                                                                                                                              \n",
       "5821                                                NaN                                                                                                                                                                                                                                                                                                                                                                                              \n",
       "5822                                                NaN                                                                                                                                                                                                                                                                                                                                                                                              \n",
       "\n",
       "      Género ¿Cuántos años cumplidos tiene usted?  \\\n",
       "0     Female                         45 a 49 años   \n",
       "1     Female                         60 a 64 años   \n",
       "2       Male                         45 a 49 años   \n",
       "3     Female                         45 a 49 años   \n",
       "4     Female                         45 a 49 años   \n",
       "...      ...                                  ...   \n",
       "5818     NaN                                  NaN   \n",
       "5819     NaN                                  NaN   \n",
       "5820     NaN                                  NaN   \n",
       "5821     NaN                                  NaN   \n",
       "5822     NaN                                  NaN   \n",
       "\n",
       "     En las pasadas elecciones de 2015, ¿usted asistió a votar o no asistió a votar?  \n",
       "0                                            Sí asistió                               \n",
       "1                                            Sí asistió                               \n",
       "2                                            Sí asistió                               \n",
       "3                                            Sí asistió                               \n",
       "4                                            Sí asistió                               \n",
       "...                                                 ...                               \n",
       "5818                                                NaN                               \n",
       "5819                                                NaN                               \n",
       "5820                                                NaN                               \n",
       "5821                                                NaN                               \n",
       "5822                                                NaN                               \n",
       "\n",
       "[5823 rows x 15 columns]"
      ]
     },
     "execution_count": 376,
     "metadata": {},
     "output_type": "execute_result"
    }
   ],
   "source": [
    "encuesta.iloc[:, :15]"
   ]
  },
  {
   "cell_type": "markdown",
   "metadata": {},
   "source": [
    "### Cambio de Nombre de columna\n",
    "\n",
    "Renombraremos 3 de las columnas por un nombre más conciso"
   ]
  },
  {
   "cell_type": "code",
   "execution_count": 377,
   "metadata": {},
   "outputs": [],
   "source": [
    "encuesta.rename(columns={'Usted es una de las personas que hemos elegido para este estudio, ¿me permitiría unos minutos para hacerle algunas preguntas? La entrevista es anónima y la información que nos proporcione es estrictamente confidencial y solo se utilizará con fines estadísticos. No necesito saber su nombre u otros datos que lo identifiquen, solo sus respuestas sinceras. Si prefiere no responder alguna pregunta, dígame y pasamos a la siguiente.':'acepta entrevista'}, inplace=True)\n",
    "encuesta.rename(columns={'Duration (seconds)':'seconds'}, inplace=True)\n",
    "encuesta.rename(columns={'¿En este hogar cuentan con estufa de gas o eléctrica?':'estufa'}, inplace=True)"
   ]
  },
  {
   "cell_type": "markdown",
   "metadata": {},
   "source": [
    "### Seleccion de columnas\n",
    "\n",
    "El Objetivo será el de medir el tiempo de realización de cada encuesta según el encuestador, para eso seleccionaremos las siguientes 4 columnas\n",
    "    1. User (para conocer el usuario que realizó cada entrevista)\n",
    "    2. seconds (mide el tiempo de elaboración de cada entrevista, buscaremos outliers)\n",
    "    3. acepta entrevista (para conocer si una persona no acepto hacer la entrevista influye en los outliers de tiempo)\n",
    "    4. estufa (si llegamos a dicha pregunta, la entrevista fue completada)"
   ]
  },
  {
   "cell_type": "code",
   "execution_count": 378,
   "metadata": {},
   "outputs": [],
   "source": [
    "poll = encuesta[['User', 'seconds', 'acepta entrevista', 'estufa']]"
   ]
  },
  {
   "cell_type": "code",
   "execution_count": 379,
   "metadata": {},
   "outputs": [
    {
     "data": {
      "text/html": [
       "<div>\n",
       "<style scoped>\n",
       "    .dataframe tbody tr th:only-of-type {\n",
       "        vertical-align: middle;\n",
       "    }\n",
       "\n",
       "    .dataframe tbody tr th {\n",
       "        vertical-align: top;\n",
       "    }\n",
       "\n",
       "    .dataframe thead th {\n",
       "        text-align: right;\n",
       "    }\n",
       "</style>\n",
       "<table border=\"1\" class=\"dataframe\">\n",
       "  <thead>\n",
       "    <tr style=\"text-align: right;\">\n",
       "      <th></th>\n",
       "      <th>User</th>\n",
       "      <th>seconds</th>\n",
       "      <th>acepta entrevista</th>\n",
       "      <th>estufa</th>\n",
       "    </tr>\n",
       "  </thead>\n",
       "  <tbody>\n",
       "    <tr>\n",
       "      <th>0</th>\n",
       "      <td>Sonora01</td>\n",
       "      <td>682</td>\n",
       "      <td>Si acepta entrevista</td>\n",
       "      <td>Sí tiene</td>\n",
       "    </tr>\n",
       "    <tr>\n",
       "      <th>1</th>\n",
       "      <td>Sonora01</td>\n",
       "      <td>461</td>\n",
       "      <td>Si acepta entrevista</td>\n",
       "      <td>Sí tiene</td>\n",
       "    </tr>\n",
       "    <tr>\n",
       "      <th>2</th>\n",
       "      <td>Sonora10</td>\n",
       "      <td>384</td>\n",
       "      <td>Si acepta entrevista</td>\n",
       "      <td>Sí tiene</td>\n",
       "    </tr>\n",
       "    <tr>\n",
       "      <th>3</th>\n",
       "      <td>Sonora09</td>\n",
       "      <td>1742</td>\n",
       "      <td>Si acepta entrevista</td>\n",
       "      <td>Sí tiene</td>\n",
       "    </tr>\n",
       "    <tr>\n",
       "      <th>4</th>\n",
       "      <td>Sonora09</td>\n",
       "      <td>669</td>\n",
       "      <td>Si acepta entrevista</td>\n",
       "      <td>Sí tiene</td>\n",
       "    </tr>\n",
       "  </tbody>\n",
       "</table>\n",
       "</div>"
      ],
      "text/plain": [
       "       User  seconds     acepta entrevista    estufa\n",
       "0  Sonora01      682  Si acepta entrevista  Sí tiene\n",
       "1  Sonora01      461  Si acepta entrevista  Sí tiene\n",
       "2  Sonora10      384  Si acepta entrevista  Sí tiene\n",
       "3  Sonora09     1742  Si acepta entrevista  Sí tiene\n",
       "4  Sonora09      669  Si acepta entrevista  Sí tiene"
      ]
     },
     "execution_count": 379,
     "metadata": {},
     "output_type": "execute_result"
    }
   ],
   "source": [
    "poll.head()"
   ]
  },
  {
   "cell_type": "code",
   "execution_count": 380,
   "metadata": {},
   "outputs": [
    {
     "data": {
      "text/html": [
       "<div>\n",
       "<style scoped>\n",
       "    .dataframe tbody tr th:only-of-type {\n",
       "        vertical-align: middle;\n",
       "    }\n",
       "\n",
       "    .dataframe tbody tr th {\n",
       "        vertical-align: top;\n",
       "    }\n",
       "\n",
       "    .dataframe thead th {\n",
       "        text-align: right;\n",
       "    }\n",
       "</style>\n",
       "<table border=\"1\" class=\"dataframe\">\n",
       "  <thead>\n",
       "    <tr style=\"text-align: right;\">\n",
       "      <th></th>\n",
       "      <th>User</th>\n",
       "      <th>seconds</th>\n",
       "      <th>acepta entrevista</th>\n",
       "      <th>estufa</th>\n",
       "    </tr>\n",
       "  </thead>\n",
       "  <tbody>\n",
       "    <tr>\n",
       "      <th>0</th>\n",
       "      <td>False</td>\n",
       "      <td>False</td>\n",
       "      <td>False</td>\n",
       "      <td>False</td>\n",
       "    </tr>\n",
       "    <tr>\n",
       "      <th>1</th>\n",
       "      <td>False</td>\n",
       "      <td>False</td>\n",
       "      <td>False</td>\n",
       "      <td>False</td>\n",
       "    </tr>\n",
       "    <tr>\n",
       "      <th>2</th>\n",
       "      <td>False</td>\n",
       "      <td>False</td>\n",
       "      <td>False</td>\n",
       "      <td>False</td>\n",
       "    </tr>\n",
       "    <tr>\n",
       "      <th>3</th>\n",
       "      <td>False</td>\n",
       "      <td>False</td>\n",
       "      <td>False</td>\n",
       "      <td>False</td>\n",
       "    </tr>\n",
       "    <tr>\n",
       "      <th>4</th>\n",
       "      <td>False</td>\n",
       "      <td>False</td>\n",
       "      <td>False</td>\n",
       "      <td>False</td>\n",
       "    </tr>\n",
       "    <tr>\n",
       "      <th>...</th>\n",
       "      <td>...</td>\n",
       "      <td>...</td>\n",
       "      <td>...</td>\n",
       "      <td>...</td>\n",
       "    </tr>\n",
       "    <tr>\n",
       "      <th>5818</th>\n",
       "      <td>False</td>\n",
       "      <td>False</td>\n",
       "      <td>False</td>\n",
       "      <td>True</td>\n",
       "    </tr>\n",
       "    <tr>\n",
       "      <th>5819</th>\n",
       "      <td>False</td>\n",
       "      <td>False</td>\n",
       "      <td>True</td>\n",
       "      <td>True</td>\n",
       "    </tr>\n",
       "    <tr>\n",
       "      <th>5820</th>\n",
       "      <td>False</td>\n",
       "      <td>False</td>\n",
       "      <td>True</td>\n",
       "      <td>True</td>\n",
       "    </tr>\n",
       "    <tr>\n",
       "      <th>5821</th>\n",
       "      <td>False</td>\n",
       "      <td>False</td>\n",
       "      <td>True</td>\n",
       "      <td>True</td>\n",
       "    </tr>\n",
       "    <tr>\n",
       "      <th>5822</th>\n",
       "      <td>False</td>\n",
       "      <td>False</td>\n",
       "      <td>True</td>\n",
       "      <td>True</td>\n",
       "    </tr>\n",
       "  </tbody>\n",
       "</table>\n",
       "<p>5823 rows × 4 columns</p>\n",
       "</div>"
      ],
      "text/plain": [
       "       User  seconds  acepta entrevista  estufa\n",
       "0     False    False              False   False\n",
       "1     False    False              False   False\n",
       "2     False    False              False   False\n",
       "3     False    False              False   False\n",
       "4     False    False              False   False\n",
       "...     ...      ...                ...     ...\n",
       "5818  False    False              False    True\n",
       "5819  False    False               True    True\n",
       "5820  False    False               True    True\n",
       "5821  False    False               True    True\n",
       "5822  False    False               True    True\n",
       "\n",
       "[5823 rows x 4 columns]"
      ]
     },
     "execution_count": 380,
     "metadata": {},
     "output_type": "execute_result"
    }
   ],
   "source": [
    "poll.isna() # en busqueda de celdas vacias"
   ]
  },
  {
   "cell_type": "code",
   "execution_count": 381,
   "metadata": {},
   "outputs": [
    {
     "name": "stdout",
     "output_type": "stream",
     "text": [
      "User                   0\n",
      "seconds                0\n",
      "acepta entrevista     18\n",
      "estufa               168\n",
      "dtype: int64\n"
     ]
    }
   ],
   "source": [
    "count_nan = len(poll) - poll.count() #cantidad de celdas vacias por columna\n",
    "print(count_nan)  "
   ]
  },
  {
   "cell_type": "markdown",
   "metadata": {},
   "source": [
    "### Usuarios"
   ]
  },
  {
   "cell_type": "code",
   "execution_count": 382,
   "metadata": {},
   "outputs": [
    {
     "data": {
      "text/plain": [
       "array(['Sonora01', 'Sonora10', 'Sonora09', 'Sonora12', 'Sonora08',\n",
       "       'Sonora14', 'Sonora05', 'Sonora02', 'Sonora06', 'Sonora03',\n",
       "       'Sonora07', 'Sonora04', 'Sonora11', 'Sonora13', 'EmilioSonora',\n",
       "       'Electoral2', 'Electoral4', 'Electoral3', 'Electoral1',\n",
       "       'Electoral5', 'Electoral6', 'Electoral10', 'Electoral7',\n",
       "       'Electoral12', 'Electoral9', 'Electoral8', 'Electoral11'],\n",
       "      dtype=object)"
      ]
     },
     "execution_count": 382,
     "metadata": {},
     "output_type": "execute_result"
    }
   ],
   "source": [
    "poll['User'].unique() #usuarios unicos"
   ]
  },
  {
   "cell_type": "markdown",
   "metadata": {},
   "source": [
    "### Pregunta entrevista"
   ]
  },
  {
   "cell_type": "code",
   "execution_count": 383,
   "metadata": {},
   "outputs": [
    {
     "data": {
      "text/plain": [
       "array(['Si acepta entrevista', nan, 'No acepta entrevista'], dtype=object)"
      ]
     },
     "execution_count": 383,
     "metadata": {},
     "output_type": "execute_result"
    }
   ],
   "source": [
    "poll['acepta entrevista'].unique() #datos unicos de \"acepta entrevista\""
   ]
  },
  {
   "cell_type": "code",
   "execution_count": 384,
   "metadata": {},
   "outputs": [
    {
     "data": {
      "text/plain": [
       "array(['Sí tiene', 'No tiene', nan, 'Si tiene'], dtype=object)"
      ]
     },
     "execution_count": 384,
     "metadata": {},
     "output_type": "execute_result"
    }
   ],
   "source": [
    "poll['estufa'].unique() # datos unicos de estufa"
   ]
  },
  {
   "cell_type": "code",
   "execution_count": 385,
   "metadata": {},
   "outputs": [
    {
     "name": "stderr",
     "output_type": "stream",
     "text": [
      "<ipython-input-385-14f2e8973e68>:3: SettingWithCopyWarning: \n",
      "A value is trying to be set on a copy of a slice from a DataFrame.\n",
      "Try using .loc[row_indexer,col_indexer] = value instead\n",
      "\n",
      "See the caveats in the documentation: https://pandas.pydata.org/pandas-docs/stable/user_guide/indexing.html#returning-a-view-versus-a-copy\n",
      "  poll['estufa'] = poll['estufa'].replace(['Sí tiene'],'Si tiene')\n"
     ]
    },
    {
     "data": {
      "text/plain": [
       "array(['Si tiene', 'No tiene', nan], dtype=object)"
      ]
     },
     "execution_count": 385,
     "metadata": {},
     "output_type": "execute_result"
    }
   ],
   "source": [
    "#homologando condiciones escritas de manera distinta que signifacan lo mismo\n",
    "\n",
    "poll['estufa'] = poll['estufa'].replace(['Sí tiene'],'Si tiene') \n",
    "poll['estufa'].unique()"
   ]
  },
  {
   "cell_type": "markdown",
   "metadata": {},
   "source": [
    "### Verificando si influye que no acepten entrevista con tiempos en ceros\n",
    "\n",
    "¿es posible tener registros con 0 segundos de duracion por personas que no aceptaron la entrevista?"
   ]
  },
  {
   "cell_type": "code",
   "execution_count": 386,
   "metadata": {},
   "outputs": [
    {
     "data": {
      "text/html": [
       "<div>\n",
       "<style scoped>\n",
       "    .dataframe tbody tr th:only-of-type {\n",
       "        vertical-align: middle;\n",
       "    }\n",
       "\n",
       "    .dataframe tbody tr th {\n",
       "        vertical-align: top;\n",
       "    }\n",
       "\n",
       "    .dataframe thead th {\n",
       "        text-align: right;\n",
       "    }\n",
       "</style>\n",
       "<table border=\"1\" class=\"dataframe\">\n",
       "  <thead>\n",
       "    <tr style=\"text-align: right;\">\n",
       "      <th></th>\n",
       "      <th>User</th>\n",
       "      <th>seconds</th>\n",
       "      <th>acepta entrevista</th>\n",
       "      <th>estufa</th>\n",
       "    </tr>\n",
       "  </thead>\n",
       "  <tbody>\n",
       "  </tbody>\n",
       "</table>\n",
       "</div>"
      ],
      "text/plain": [
       "Empty DataFrame\n",
       "Columns: [User, seconds, acepta entrevista, estufa]\n",
       "Index: []"
      ]
     },
     "execution_count": 386,
     "metadata": {},
     "output_type": "execute_result"
    }
   ],
   "source": [
    "poll[(poll['seconds'] == 0) & (poll['acepta entrevista'] == 'No acepta entrevista')] # no se encontraron registros"
   ]
  },
  {
   "cell_type": "markdown",
   "metadata": {},
   "source": [
    "### Label Encoder en columna de usuarios\n",
    "\n",
    "para manejar de una manera más sencillas lo diferentes usuarios usaremos label encoder, para convertirlos en numeros consecutivos"
   ]
  },
  {
   "cell_type": "code",
   "execution_count": 387,
   "metadata": {},
   "outputs": [
    {
     "name": "stderr",
     "output_type": "stream",
     "text": [
      "<ipython-input-387-765712699e82>:3: SettingWithCopyWarning: \n",
      "A value is trying to be set on a copy of a slice from a DataFrame.\n",
      "Try using .loc[row_indexer,col_indexer] = value instead\n",
      "\n",
      "See the caveats in the documentation: https://pandas.pydata.org/pandas-docs/stable/user_guide/indexing.html#returning-a-view-versus-a-copy\n",
      "  poll['User']= label_encoder.fit_transform(poll['User'].fillna('0'))\n"
     ]
    },
    {
     "data": {
      "text/plain": [
       "array([13, 22, 21, 24, 20, 26, 17, 14, 18, 15, 19, 16, 23, 25, 12,  4,  6,\n",
       "        5,  0,  7,  8,  1,  9,  3, 11, 10,  2])"
      ]
     },
     "execution_count": 387,
     "metadata": {},
     "output_type": "execute_result"
    }
   ],
   "source": [
    "from sklearn import preprocessing \n",
    "label_encoder = preprocessing.LabelEncoder()\n",
    "poll['User']= label_encoder.fit_transform(poll['User'].fillna('0')) \n",
    "  \n",
    "poll['User'].unique()"
   ]
  },
  {
   "cell_type": "markdown",
   "metadata": {},
   "source": [
    "Haremos lo mismo para la columna \"acepta entrevista\", conviertiendo a cero las celdas vacias\n",
    "     * 0 = Celdas Vacias\n",
    "     * 1 = No Acepta Entrevista\n",
    "     * 2 = Si Acepta Entrevista"
   ]
  },
  {
   "cell_type": "code",
   "execution_count": 388,
   "metadata": {},
   "outputs": [
    {
     "name": "stderr",
     "output_type": "stream",
     "text": [
      "<ipython-input-388-7197e498925b>:1: SettingWithCopyWarning: \n",
      "A value is trying to be set on a copy of a slice from a DataFrame.\n",
      "Try using .loc[row_indexer,col_indexer] = value instead\n",
      "\n",
      "See the caveats in the documentation: https://pandas.pydata.org/pandas-docs/stable/user_guide/indexing.html#returning-a-view-versus-a-copy\n",
      "  poll['acepta entrevista']= label_encoder.fit_transform(poll['acepta entrevista'].fillna('0'))\n"
     ]
    },
    {
     "data": {
      "text/plain": [
       "array([2, 0, 1])"
      ]
     },
     "execution_count": 388,
     "metadata": {},
     "output_type": "execute_result"
    }
   ],
   "source": [
    "poll['acepta entrevista']= label_encoder.fit_transform(poll['acepta entrevista'].fillna('0')) \n",
    "  \n",
    "poll['acepta entrevista'].unique()"
   ]
  },
  {
   "cell_type": "markdown",
   "metadata": {},
   "source": [
    "Haremos lo mismo para la columna \"estufa\", conviertiendo a cero las celdas vacias\n",
    "\n",
    " * 0 = Celdas Vacias\n",
    " * 1 = No tiene\n",
    " * 2 = Si tiene"
   ]
  },
  {
   "cell_type": "code",
   "execution_count": 389,
   "metadata": {},
   "outputs": [
    {
     "name": "stderr",
     "output_type": "stream",
     "text": [
      "<ipython-input-389-0cf0fe6269d8>:1: SettingWithCopyWarning: \n",
      "A value is trying to be set on a copy of a slice from a DataFrame.\n",
      "Try using .loc[row_indexer,col_indexer] = value instead\n",
      "\n",
      "See the caveats in the documentation: https://pandas.pydata.org/pandas-docs/stable/user_guide/indexing.html#returning-a-view-versus-a-copy\n",
      "  poll['estufa']= label_encoder.fit_transform(poll['estufa'].fillna('0'))\n"
     ]
    },
    {
     "data": {
      "text/plain": [
       "array([2, 1, 0])"
      ]
     },
     "execution_count": 389,
     "metadata": {},
     "output_type": "execute_result"
    }
   ],
   "source": [
    "poll['estufa']= label_encoder.fit_transform(poll['estufa'].fillna('0')) \n",
    "  \n",
    "poll['estufa'].unique()"
   ]
  },
  {
   "cell_type": "code",
   "execution_count": 390,
   "metadata": {},
   "outputs": [
    {
     "data": {
      "text/html": [
       "<div>\n",
       "<style scoped>\n",
       "    .dataframe tbody tr th:only-of-type {\n",
       "        vertical-align: middle;\n",
       "    }\n",
       "\n",
       "    .dataframe tbody tr th {\n",
       "        vertical-align: top;\n",
       "    }\n",
       "\n",
       "    .dataframe thead th {\n",
       "        text-align: right;\n",
       "    }\n",
       "</style>\n",
       "<table border=\"1\" class=\"dataframe\">\n",
       "  <thead>\n",
       "    <tr style=\"text-align: right;\">\n",
       "      <th></th>\n",
       "      <th>User</th>\n",
       "      <th>seconds</th>\n",
       "      <th>acepta entrevista</th>\n",
       "      <th>estufa</th>\n",
       "    </tr>\n",
       "  </thead>\n",
       "  <tbody>\n",
       "    <tr>\n",
       "      <th>count</th>\n",
       "      <td>5823.000000</td>\n",
       "      <td>5.823000e+03</td>\n",
       "      <td>5823.000000</td>\n",
       "      <td>5823.000000</td>\n",
       "    </tr>\n",
       "    <tr>\n",
       "      <th>mean</th>\n",
       "      <td>16.560192</td>\n",
       "      <td>5.122583e+04</td>\n",
       "      <td>1.973553</td>\n",
       "      <td>1.933196</td>\n",
       "    </tr>\n",
       "    <tr>\n",
       "      <th>std</th>\n",
       "      <td>7.035473</td>\n",
       "      <td>3.863152e+06</td>\n",
       "      <td>0.178704</td>\n",
       "      <td>0.346503</td>\n",
       "    </tr>\n",
       "    <tr>\n",
       "      <th>min</th>\n",
       "      <td>0.000000</td>\n",
       "      <td>0.000000e+00</td>\n",
       "      <td>0.000000</td>\n",
       "      <td>0.000000</td>\n",
       "    </tr>\n",
       "    <tr>\n",
       "      <th>25%</th>\n",
       "      <td>13.000000</td>\n",
       "      <td>4.200000e+02</td>\n",
       "      <td>2.000000</td>\n",
       "      <td>2.000000</td>\n",
       "    </tr>\n",
       "    <tr>\n",
       "      <th>50%</th>\n",
       "      <td>18.000000</td>\n",
       "      <td>5.310000e+02</td>\n",
       "      <td>2.000000</td>\n",
       "      <td>2.000000</td>\n",
       "    </tr>\n",
       "    <tr>\n",
       "      <th>75%</th>\n",
       "      <td>22.000000</td>\n",
       "      <td>6.735000e+02</td>\n",
       "      <td>2.000000</td>\n",
       "      <td>2.000000</td>\n",
       "    </tr>\n",
       "    <tr>\n",
       "      <th>max</th>\n",
       "      <td>26.000000</td>\n",
       "      <td>2.947922e+08</td>\n",
       "      <td>2.000000</td>\n",
       "      <td>2.000000</td>\n",
       "    </tr>\n",
       "  </tbody>\n",
       "</table>\n",
       "</div>"
      ],
      "text/plain": [
       "              User       seconds  acepta entrevista       estufa\n",
       "count  5823.000000  5.823000e+03        5823.000000  5823.000000\n",
       "mean     16.560192  5.122583e+04           1.973553     1.933196\n",
       "std       7.035473  3.863152e+06           0.178704     0.346503\n",
       "min       0.000000  0.000000e+00           0.000000     0.000000\n",
       "25%      13.000000  4.200000e+02           2.000000     2.000000\n",
       "50%      18.000000  5.310000e+02           2.000000     2.000000\n",
       "75%      22.000000  6.735000e+02           2.000000     2.000000\n",
       "max      26.000000  2.947922e+08           2.000000     2.000000"
      ]
     },
     "execution_count": 390,
     "metadata": {},
     "output_type": "execute_result"
    }
   ],
   "source": [
    "poll.describe() #datos estadisticos de dataframe"
   ]
  },
  {
   "cell_type": "markdown",
   "metadata": {},
   "source": [
    "### buscando outliers con scatterplot"
   ]
  },
  {
   "cell_type": "code",
   "execution_count": 391,
   "metadata": {},
   "outputs": [
    {
     "data": {
      "text/plain": [
       "<matplotlib.axes._subplots.AxesSubplot at 0x7f8370fdca00>"
      ]
     },
     "execution_count": 391,
     "metadata": {},
     "output_type": "execute_result"
    },
    {
     "data": {
      "image/png": "[encoded data removed]",
      "text/plain": [
       "<Figure size 1440x720 with 1 Axes>"
      ]
     },
     "metadata": {},
     "output_type": "display_data"
    }
   ],
   "source": [
    "sns.set(rc={'figure.figsize':(20,10)})\n",
    "sns.scatterplot(x='User', y='seconds', data= poll)\n"
   ]
  },
  {
   "cell_type": "markdown",
   "metadata": {},
   "source": [
    "### buscando outliers con boxplot"
   ]
  },
  {
   "cell_type": "code",
   "execution_count": 392,
   "metadata": {},
   "outputs": [
    {
     "data": {
      "text/plain": [
       "<matplotlib.axes._subplots.AxesSubplot at 0x7f835a09dd00>"
      ]
     },
     "execution_count": 392,
     "metadata": {},
     "output_type": "execute_result"
    },
    {
     "data": {
      "image/png": "[encoded data removed]",
      "text/plain": [
       "<Figure size 1440x720 with 1 Axes>"
      ]
     },
     "metadata": {},
     "output_type": "display_data"
    }
   ],
   "source": [
    "poll.boxplot(by='User', column=['seconds'], figsize=(20,10))"
   ]
  },
  {
   "cell_type": "markdown",
   "metadata": {},
   "source": [
    "### buscando outlier drastico\n",
    "Existe un outlier muy alejado al resto, que evita poder ver a detalle el resto de los datos, el sistema de registro de las encuestas debe ser cerrado al momento de finalizar la entravista, de no ser asi el tiempo seguirá corriendo por esa razón obtenemos este tipo de datos\n",
    "\n",
    "Por lo anterior decidimos eliminarlo"
   ]
  },
  {
   "cell_type": "code",
   "execution_count": 393,
   "metadata": {},
   "outputs": [
    {
     "data": {
      "text/plain": [
       "1184"
      ]
     },
     "execution_count": 393,
     "metadata": {},
     "output_type": "execute_result"
    }
   ],
   "source": [
    "poll[(poll['seconds'] > 30000) & (poll['User']== 25)].index[0]"
   ]
  },
  {
   "cell_type": "code",
   "execution_count": 394,
   "metadata": {},
   "outputs": [
    {
     "data": {
      "text/html": [
       "<div>\n",
       "<style scoped>\n",
       "    .dataframe tbody tr th:only-of-type {\n",
       "        vertical-align: middle;\n",
       "    }\n",
       "\n",
       "    .dataframe tbody tr th {\n",
       "        vertical-align: top;\n",
       "    }\n",
       "\n",
       "    .dataframe thead th {\n",
       "        text-align: right;\n",
       "    }\n",
       "</style>\n",
       "<table border=\"1\" class=\"dataframe\">\n",
       "  <thead>\n",
       "    <tr style=\"text-align: right;\">\n",
       "      <th></th>\n",
       "      <th>User</th>\n",
       "      <th>seconds</th>\n",
       "      <th>acepta entrevista</th>\n",
       "      <th>estufa</th>\n",
       "    </tr>\n",
       "  </thead>\n",
       "  <tbody>\n",
       "    <tr>\n",
       "      <th>1184</th>\n",
       "      <td>25</td>\n",
       "      <td>294792222</td>\n",
       "      <td>2</td>\n",
       "      <td>2</td>\n",
       "    </tr>\n",
       "  </tbody>\n",
       "</table>\n",
       "</div>"
      ],
      "text/plain": [
       "      User    seconds  acepta entrevista  estufa\n",
       "1184    25  294792222                  2       2"
      ]
     },
     "execution_count": 394,
     "metadata": {},
     "output_type": "execute_result"
    }
   ],
   "source": [
    "poll[(poll['seconds'] > 30000) & (poll['User']== 25)]"
   ]
  },
  {
   "cell_type": "markdown",
   "metadata": {},
   "source": [
    "### quitando outlier"
   ]
  },
  {
   "cell_type": "code",
   "execution_count": 395,
   "metadata": {},
   "outputs": [],
   "source": [
    "poll= poll.drop(poll[poll['seconds'] == 294792222].index)"
   ]
  },
  {
   "cell_type": "code",
   "execution_count": 396,
   "metadata": {},
   "outputs": [
    {
     "data": {
      "text/html": [
       "<div>\n",
       "<style scoped>\n",
       "    .dataframe tbody tr th:only-of-type {\n",
       "        vertical-align: middle;\n",
       "    }\n",
       "\n",
       "    .dataframe tbody tr th {\n",
       "        vertical-align: top;\n",
       "    }\n",
       "\n",
       "    .dataframe thead th {\n",
       "        text-align: right;\n",
       "    }\n",
       "</style>\n",
       "<table border=\"1\" class=\"dataframe\">\n",
       "  <thead>\n",
       "    <tr style=\"text-align: right;\">\n",
       "      <th></th>\n",
       "      <th>User</th>\n",
       "      <th>seconds</th>\n",
       "      <th>acepta entrevista</th>\n",
       "      <th>estufa</th>\n",
       "    </tr>\n",
       "  </thead>\n",
       "  <tbody>\n",
       "    <tr>\n",
       "      <th>count</th>\n",
       "      <td>5822.000000</td>\n",
       "      <td>5822.000000</td>\n",
       "      <td>5822.000000</td>\n",
       "      <td>5822.000000</td>\n",
       "    </tr>\n",
       "    <tr>\n",
       "      <th>mean</th>\n",
       "      <td>16.558743</td>\n",
       "      <td>600.447097</td>\n",
       "      <td>1.973549</td>\n",
       "      <td>1.933184</td>\n",
       "    </tr>\n",
       "    <tr>\n",
       "      <th>std</th>\n",
       "      <td>7.035207</td>\n",
       "      <td>436.311993</td>\n",
       "      <td>0.178719</td>\n",
       "      <td>0.346531</td>\n",
       "    </tr>\n",
       "    <tr>\n",
       "      <th>min</th>\n",
       "      <td>0.000000</td>\n",
       "      <td>0.000000</td>\n",
       "      <td>0.000000</td>\n",
       "      <td>0.000000</td>\n",
       "    </tr>\n",
       "    <tr>\n",
       "      <th>25%</th>\n",
       "      <td>13.000000</td>\n",
       "      <td>420.000000</td>\n",
       "      <td>2.000000</td>\n",
       "      <td>2.000000</td>\n",
       "    </tr>\n",
       "    <tr>\n",
       "      <th>50%</th>\n",
       "      <td>18.000000</td>\n",
       "      <td>531.000000</td>\n",
       "      <td>2.000000</td>\n",
       "      <td>2.000000</td>\n",
       "    </tr>\n",
       "    <tr>\n",
       "      <th>75%</th>\n",
       "      <td>22.000000</td>\n",
       "      <td>673.000000</td>\n",
       "      <td>2.000000</td>\n",
       "      <td>2.000000</td>\n",
       "    </tr>\n",
       "    <tr>\n",
       "      <th>max</th>\n",
       "      <td>26.000000</td>\n",
       "      <td>8047.000000</td>\n",
       "      <td>2.000000</td>\n",
       "      <td>2.000000</td>\n",
       "    </tr>\n",
       "  </tbody>\n",
       "</table>\n",
       "</div>"
      ],
      "text/plain": [
       "              User      seconds  acepta entrevista       estufa\n",
       "count  5822.000000  5822.000000        5822.000000  5822.000000\n",
       "mean     16.558743   600.447097           1.973549     1.933184\n",
       "std       7.035207   436.311993           0.178719     0.346531\n",
       "min       0.000000     0.000000           0.000000     0.000000\n",
       "25%      13.000000   420.000000           2.000000     2.000000\n",
       "50%      18.000000   531.000000           2.000000     2.000000\n",
       "75%      22.000000   673.000000           2.000000     2.000000\n",
       "max      26.000000  8047.000000           2.000000     2.000000"
      ]
     },
     "execution_count": 396,
     "metadata": {},
     "output_type": "execute_result"
    }
   ],
   "source": [
    "poll.describe()"
   ]
  },
  {
   "cell_type": "markdown",
   "metadata": {},
   "source": [
    "### nuevo boxplot sin col 1184"
   ]
  },
  {
   "cell_type": "code",
   "execution_count": 397,
   "metadata": {},
   "outputs": [
    {
     "data": {
      "text/plain": [
       "<matplotlib.axes._subplots.AxesSubplot at 0x7f835904fc40>"
      ]
     },
     "execution_count": 397,
     "metadata": {},
     "output_type": "execute_result"
    },
    {
     "data": {
      "image/png": "[encoded data removed]",
      "text/plain": [
       "<Figure size 1440x720 with 1 Axes>"
      ]
     },
     "metadata": {},
     "output_type": "display_data"
    }
   ],
   "source": [
    "poll.boxplot(by='User', column=['seconds'], figsize=(20,10))"
   ]
  },
  {
   "cell_type": "markdown",
   "metadata": {},
   "source": [
    "### scatterplot"
   ]
  },
  {
   "cell_type": "code",
   "execution_count": 398,
   "metadata": {},
   "outputs": [
    {
     "data": {
      "text/plain": [
       "<matplotlib.axes._subplots.AxesSubplot at 0x7f835d67d8b0>"
      ]
     },
     "execution_count": 398,
     "metadata": {},
     "output_type": "execute_result"
    },
    {
     "data": {
      "image/png": "[encoded data removed]",
      "text/plain": [
       "<Figure size 1440x720 with 1 Axes>"
      ]
     },
     "metadata": {},
     "output_type": "display_data"
    }
   ],
   "source": [
    "sns.set(rc={'figure.figsize':(20,10)})\n",
    "sns.scatterplot(x='User', y='seconds', data= poll)"
   ]
  },
  {
   "cell_type": "code",
   "execution_count": 399,
   "metadata": {},
   "outputs": [
    {
     "data": {
      "text/html": [
       "<div>\n",
       "<style scoped>\n",
       "    .dataframe tbody tr th:only-of-type {\n",
       "        vertical-align: middle;\n",
       "    }\n",
       "\n",
       "    .dataframe tbody tr th {\n",
       "        vertical-align: top;\n",
       "    }\n",
       "\n",
       "    .dataframe thead th {\n",
       "        text-align: right;\n",
       "    }\n",
       "</style>\n",
       "<table border=\"1\" class=\"dataframe\">\n",
       "  <thead>\n",
       "    <tr style=\"text-align: right;\">\n",
       "      <th></th>\n",
       "      <th>User</th>\n",
       "      <th>seconds</th>\n",
       "      <th>acepta entrevista</th>\n",
       "      <th>estufa</th>\n",
       "    </tr>\n",
       "  </thead>\n",
       "  <tbody>\n",
       "    <tr>\n",
       "      <th>0</th>\n",
       "      <td>13</td>\n",
       "      <td>682</td>\n",
       "      <td>2</td>\n",
       "      <td>2</td>\n",
       "    </tr>\n",
       "    <tr>\n",
       "      <th>1</th>\n",
       "      <td>13</td>\n",
       "      <td>461</td>\n",
       "      <td>2</td>\n",
       "      <td>2</td>\n",
       "    </tr>\n",
       "    <tr>\n",
       "      <th>2</th>\n",
       "      <td>22</td>\n",
       "      <td>384</td>\n",
       "      <td>2</td>\n",
       "      <td>2</td>\n",
       "    </tr>\n",
       "    <tr>\n",
       "      <th>3</th>\n",
       "      <td>21</td>\n",
       "      <td>1742</td>\n",
       "      <td>2</td>\n",
       "      <td>2</td>\n",
       "    </tr>\n",
       "    <tr>\n",
       "      <th>4</th>\n",
       "      <td>21</td>\n",
       "      <td>669</td>\n",
       "      <td>2</td>\n",
       "      <td>2</td>\n",
       "    </tr>\n",
       "    <tr>\n",
       "      <th>...</th>\n",
       "      <td>...</td>\n",
       "      <td>...</td>\n",
       "      <td>...</td>\n",
       "      <td>...</td>\n",
       "    </tr>\n",
       "    <tr>\n",
       "      <th>5818</th>\n",
       "      <td>5</td>\n",
       "      <td>44</td>\n",
       "      <td>1</td>\n",
       "      <td>0</td>\n",
       "    </tr>\n",
       "    <tr>\n",
       "      <th>5819</th>\n",
       "      <td>0</td>\n",
       "      <td>152</td>\n",
       "      <td>0</td>\n",
       "      <td>0</td>\n",
       "    </tr>\n",
       "    <tr>\n",
       "      <th>5820</th>\n",
       "      <td>5</td>\n",
       "      <td>134</td>\n",
       "      <td>0</td>\n",
       "      <td>0</td>\n",
       "    </tr>\n",
       "    <tr>\n",
       "      <th>5821</th>\n",
       "      <td>4</td>\n",
       "      <td>59</td>\n",
       "      <td>0</td>\n",
       "      <td>0</td>\n",
       "    </tr>\n",
       "    <tr>\n",
       "      <th>5822</th>\n",
       "      <td>6</td>\n",
       "      <td>155</td>\n",
       "      <td>0</td>\n",
       "      <td>0</td>\n",
       "    </tr>\n",
       "  </tbody>\n",
       "</table>\n",
       "<p>5822 rows × 4 columns</p>\n",
       "</div>"
      ],
      "text/plain": [
       "      User  seconds  acepta entrevista  estufa\n",
       "0       13      682                  2       2\n",
       "1       13      461                  2       2\n",
       "2       22      384                  2       2\n",
       "3       21     1742                  2       2\n",
       "4       21      669                  2       2\n",
       "...    ...      ...                ...     ...\n",
       "5818     5       44                  1       0\n",
       "5819     0      152                  0       0\n",
       "5820     5      134                  0       0\n",
       "5821     4       59                  0       0\n",
       "5822     6      155                  0       0\n",
       "\n",
       "[5822 rows x 4 columns]"
      ]
     },
     "execution_count": 399,
     "metadata": {},
     "output_type": "execute_result"
    }
   ],
   "source": [
    "poll"
   ]
  },
  {
   "cell_type": "markdown",
   "metadata": {},
   "source": [
    "### Buscando Outliers por medio de KNN (K Nearest Neighbors)"
   ]
  },
  {
   "cell_type": "code",
   "execution_count": 400,
   "metadata": {},
   "outputs": [
    {
     "data": {
      "text/plain": [
       "array([[ 13, 682],\n",
       "       [ 13, 461],\n",
       "       [ 22, 384],\n",
       "       ...,\n",
       "       [  5, 134],\n",
       "       [  4,  59],\n",
       "       [  6, 155]])"
      ]
     },
     "execution_count": 400,
     "metadata": {},
     "output_type": "execute_result"
    }
   ],
   "source": [
    "x =poll[['User', 'seconds']].values # obtenemos la matriz \"x\" de los valores del dataframe \"User\" y \"seconds\"\n",
    "x"
   ]
  },
  {
   "cell_type": "code",
   "execution_count": 401,
   "metadata": {},
   "outputs": [
    {
     "data": {
      "text/plain": [
       "NearestNeighbors(n_neighbors=25)"
      ]
     },
     "execution_count": 401,
     "metadata": {},
     "output_type": "execute_result"
    }
   ],
   "source": [
    "# utilizando NearestNeighbors de scikit learn \n",
    "from sklearn.neighbors import NearestNeighbors\n",
    "nbrs= NearestNeighbors(n_neighbors = 25) # analizando los 25 puntos más cercanos de cada punto\n",
    "nbrs.fit(x)"
   ]
  },
  {
   "cell_type": "code",
   "execution_count": 402,
   "metadata": {},
   "outputs": [
    {
     "data": {
      "text/plain": [
       "[<matplotlib.lines.Line2D at 0x7f835d88d700>]"
      ]
     },
     "execution_count": 402,
     "metadata": {},
     "output_type": "execute_result"
    },
    {
     "data": {
      "image/png": "[encoded data removed]",
      "text/plain": [
       "<Figure size 1440x720 with 1 Axes>"
      ]
     },
     "metadata": {},
     "output_type": "display_data"
    }
   ],
   "source": [
    "distances, indexes = nbrs.kneighbors(x) # obtenemos las distancias resultantes del analisis y graficamos\n",
    "plt.plot(distances.mean(axis =1))"
   ]
  },
  {
   "cell_type": "code",
   "execution_count": 403,
   "metadata": {},
   "outputs": [
    {
     "data": {
      "text/plain": [
       "(array([   3,   10,   30,   61,  206,  254,  258,  272,  288,  299,  433,\n",
       "         550,  752,  755,  810,  815,  820,  824,  867,  957,  973,  995,\n",
       "         996,  999, 1003, 1004, 1009, 1075, 1086, 1091, 1117, 1127, 1134,\n",
       "        1139, 1141, 1160, 1161, 1165, 1167, 1170, 1171, 1177, 1179, 1180,\n",
       "        1182, 1183, 1207, 1225, 1397, 1403, 1412, 1422, 1462, 1492, 1504,\n",
       "        1595, 1612, 1613, 1643, 1677, 1726, 1768, 1771, 1851, 1861, 1864,\n",
       "        1881, 1885, 1923, 1926, 1932, 1974, 1990, 1996, 2030, 2046, 2054,\n",
       "        2060, 2068, 2143, 2146, 2148, 2156, 2157, 2209, 2220, 2253, 2269,\n",
       "        2281, 2282, 2287, 2330, 2331, 2334, 2350, 2364, 2365, 2370, 2382,\n",
       "        2390, 2392, 2398, 2408, 2415, 2417, 2427, 2432, 2436, 2449, 2452,\n",
       "        2454, 2457, 2485, 2486, 2487, 2514, 2517, 2518, 2519, 2537, 2547,\n",
       "        2571, 2573, 2574, 2575, 2576, 2577, 2585, 2622, 2623, 2631, 2632,\n",
       "        2633, 2634, 2647, 2659, 2662, 2673, 2685, 2686, 2699, 2706, 2715,\n",
       "        2731, 2734, 2736, 2772, 2817, 2818, 2820, 2842, 2857, 2884, 3057,\n",
       "        3070, 3176, 3188, 3196, 3225, 3241, 3277, 3359, 3369, 3384, 3386,\n",
       "        3398, 3419, 3445, 3454, 3456, 3531, 3562, 3651, 3662, 3711, 3716,\n",
       "        3725, 3746, 3775, 3786, 3804, 3822, 3833, 3843, 3860, 3867, 3891,\n",
       "        3892, 4005, 4049, 4068, 4091, 4092, 4093, 4094, 4109, 4117, 4118,\n",
       "        4121, 4150, 4153, 4205, 4209, 4229, 4378, 4385, 4485, 4487, 4511,\n",
       "        4530, 4555, 4557, 4581, 4587, 4604, 4609, 4632, 4778, 4781, 4800,\n",
       "        4803, 4830, 4890, 4914, 4923, 4991, 5023, 5043, 5132, 5193, 5199,\n",
       "        5295, 5356, 5375, 5398, 5399, 5416, 5427, 5500, 5503, 5510, 5522,\n",
       "        5529, 5535, 5556, 5585, 5593, 5596, 5610, 5611, 5624, 5625, 5644,\n",
       "        5649, 5653, 5680, 5683, 5692, 5694, 5708, 5711, 5720, 5724, 5726,\n",
       "        5735, 5739, 5740, 5743, 5746, 5747, 5756, 5758, 5766, 5773, 5774,\n",
       "        5782, 5790, 5799, 5801, 5818, 5819, 5821]),)"
      ]
     },
     "execution_count": 403,
     "metadata": {},
     "output_type": "execute_result"
    }
   ],
   "source": [
    "#nueva matriz con los datos de los outliers resultantes considerando outliers distancias mayores de 15\n",
    "outlier_index = np.where(distances.mean(axis = 1) > 15) \n",
    "outlier_index"
   ]
  },
  {
   "cell_type": "code",
   "execution_count": 404,
   "metadata": {},
   "outputs": [
    {
     "data": {
      "text/html": [
       "<div>\n",
       "<style scoped>\n",
       "    .dataframe tbody tr th:only-of-type {\n",
       "        vertical-align: middle;\n",
       "    }\n",
       "\n",
       "    .dataframe tbody tr th {\n",
       "        vertical-align: top;\n",
       "    }\n",
       "\n",
       "    .dataframe thead th {\n",
       "        text-align: right;\n",
       "    }\n",
       "</style>\n",
       "<table border=\"1\" class=\"dataframe\">\n",
       "  <thead>\n",
       "    <tr style=\"text-align: right;\">\n",
       "      <th></th>\n",
       "      <th>User</th>\n",
       "      <th>seconds</th>\n",
       "      <th>acepta entrevista</th>\n",
       "      <th>estufa</th>\n",
       "    </tr>\n",
       "  </thead>\n",
       "  <tbody>\n",
       "    <tr>\n",
       "      <th>3</th>\n",
       "      <td>21</td>\n",
       "      <td>1742</td>\n",
       "      <td>2</td>\n",
       "      <td>2</td>\n",
       "    </tr>\n",
       "    <tr>\n",
       "      <th>10</th>\n",
       "      <td>26</td>\n",
       "      <td>2071</td>\n",
       "      <td>2</td>\n",
       "      <td>2</td>\n",
       "    </tr>\n",
       "    <tr>\n",
       "      <th>30</th>\n",
       "      <td>20</td>\n",
       "      <td>1523</td>\n",
       "      <td>2</td>\n",
       "      <td>2</td>\n",
       "    </tr>\n",
       "    <tr>\n",
       "      <th>61</th>\n",
       "      <td>21</td>\n",
       "      <td>1259</td>\n",
       "      <td>2</td>\n",
       "      <td>2</td>\n",
       "    </tr>\n",
       "    <tr>\n",
       "      <th>206</th>\n",
       "      <td>13</td>\n",
       "      <td>1438</td>\n",
       "      <td>2</td>\n",
       "      <td>2</td>\n",
       "    </tr>\n",
       "  </tbody>\n",
       "</table>\n",
       "</div>"
      ],
      "text/plain": [
       "     User  seconds  acepta entrevista  estufa\n",
       "3      21     1742                  2       2\n",
       "10     26     2071                  2       2\n",
       "30     20     1523                  2       2\n",
       "61     21     1259                  2       2\n",
       "206    13     1438                  2       2"
      ]
     },
     "execution_count": 404,
     "metadata": {},
     "output_type": "execute_result"
    }
   ],
   "source": [
    "#dataframe de outliers\n",
    "outlier_values = poll.iloc[outlier_index]\n",
    "outlier_values.head()"
   ]
  },
  {
   "cell_type": "code",
   "execution_count": 405,
   "metadata": {},
   "outputs": [
    {
     "data": {
      "text/plain": [
       "(282, 4)"
      ]
     },
     "execution_count": 405,
     "metadata": {},
     "output_type": "execute_result"
    }
   ],
   "source": [
    "outlier_values.shape #tamaño de dataframe outliers"
   ]
  },
  {
   "cell_type": "code",
   "execution_count": 406,
   "metadata": {},
   "outputs": [
    {
     "data": {
      "text/plain": [
       "<matplotlib.collections.PathCollection at 0x7f835da6fa60>"
      ]
     },
     "execution_count": 406,
     "metadata": {},
     "output_type": "execute_result"
    },
    {
     "data": {
      "image/png": "[encoded data removed]",
      "text/plain": [
       "<Figure size 1440x720 with 1 Axes>"
      ]
     },
     "metadata": {},
     "output_type": "display_data"
    }
   ],
   "source": [
    "# Graficando nuestro dataframe original de color azul\n",
    "plt.scatter(poll[\"User\"], poll[\"seconds\"], color = \"b\", s = 65)\n",
    "# Graficando outliers de color rojo\n",
    "plt.scatter(outlier_values[\"User\"], outlier_values[\"seconds\"], color = \"r\")"
   ]
  },
  {
   "cell_type": "markdown",
   "metadata": {},
   "source": [
    "### IForest\n",
    "Realizando analisis de Isolotion Forest en busqueda de Outliers"
   ]
  },
  {
   "cell_type": "code",
   "execution_count": 407,
   "metadata": {},
   "outputs": [],
   "source": [
    "# importando libreria de scikit learn\n",
    "from sklearn.ensemble import IsolationForest\n"
   ]
  },
  {
   "cell_type": "markdown",
   "metadata": {},
   "source": [
    "Entrenando Isolation Forest\n",
    "    * n_estimators = 100\n",
    "    * max_samples = auto\n",
    "    * contamination = 15%"
   ]
  },
  {
   "cell_type": "code",
   "execution_count": 408,
   "metadata": {},
   "outputs": [
    {
     "data": {
      "text/plain": [
       "IsolationForest(contamination=0.05, n_estimators=50)"
      ]
     },
     "execution_count": 408,
     "metadata": {},
     "output_type": "execute_result"
    }
   ],
   "source": [
    "#modelo con la columna seconds\n",
    "model=IsolationForest(n_estimators=50, max_samples='auto', contamination=float(0.05),max_features=1.0)\n",
    "model.fit(poll[['seconds']])"
   ]
  },
  {
   "cell_type": "code",
   "execution_count": 409,
   "metadata": {},
   "outputs": [
    {
     "data": {
      "text/html": [
       "<div>\n",
       "<style scoped>\n",
       "    .dataframe tbody tr th:only-of-type {\n",
       "        vertical-align: middle;\n",
       "    }\n",
       "\n",
       "    .dataframe tbody tr th {\n",
       "        vertical-align: top;\n",
       "    }\n",
       "\n",
       "    .dataframe thead th {\n",
       "        text-align: right;\n",
       "    }\n",
       "</style>\n",
       "<table border=\"1\" class=\"dataframe\">\n",
       "  <thead>\n",
       "    <tr style=\"text-align: right;\">\n",
       "      <th></th>\n",
       "      <th>User</th>\n",
       "      <th>seconds</th>\n",
       "      <th>acepta entrevista</th>\n",
       "      <th>estufa</th>\n",
       "      <th>scores</th>\n",
       "      <th>anomaly</th>\n",
       "    </tr>\n",
       "  </thead>\n",
       "  <tbody>\n",
       "    <tr>\n",
       "      <th>0</th>\n",
       "      <td>13</td>\n",
       "      <td>682</td>\n",
       "      <td>2</td>\n",
       "      <td>2</td>\n",
       "      <td>0.212232</td>\n",
       "      <td>1</td>\n",
       "    </tr>\n",
       "    <tr>\n",
       "      <th>1</th>\n",
       "      <td>13</td>\n",
       "      <td>461</td>\n",
       "      <td>2</td>\n",
       "      <td>2</td>\n",
       "      <td>0.233269</td>\n",
       "      <td>1</td>\n",
       "    </tr>\n",
       "    <tr>\n",
       "      <th>2</th>\n",
       "      <td>22</td>\n",
       "      <td>384</td>\n",
       "      <td>2</td>\n",
       "      <td>2</td>\n",
       "      <td>0.216267</td>\n",
       "      <td>1</td>\n",
       "    </tr>\n",
       "    <tr>\n",
       "      <th>3</th>\n",
       "      <td>21</td>\n",
       "      <td>1742</td>\n",
       "      <td>2</td>\n",
       "      <td>2</td>\n",
       "      <td>-0.066753</td>\n",
       "      <td>-1</td>\n",
       "    </tr>\n",
       "    <tr>\n",
       "      <th>4</th>\n",
       "      <td>21</td>\n",
       "      <td>669</td>\n",
       "      <td>2</td>\n",
       "      <td>2</td>\n",
       "      <td>0.205123</td>\n",
       "      <td>1</td>\n",
       "    </tr>\n",
       "    <tr>\n",
       "      <th>5</th>\n",
       "      <td>24</td>\n",
       "      <td>797</td>\n",
       "      <td>2</td>\n",
       "      <td>2</td>\n",
       "      <td>0.167121</td>\n",
       "      <td>1</td>\n",
       "    </tr>\n",
       "    <tr>\n",
       "      <th>6</th>\n",
       "      <td>21</td>\n",
       "      <td>522</td>\n",
       "      <td>2</td>\n",
       "      <td>2</td>\n",
       "      <td>0.223788</td>\n",
       "      <td>1</td>\n",
       "    </tr>\n",
       "    <tr>\n",
       "      <th>7</th>\n",
       "      <td>20</td>\n",
       "      <td>645</td>\n",
       "      <td>2</td>\n",
       "      <td>2</td>\n",
       "      <td>0.219077</td>\n",
       "      <td>1</td>\n",
       "    </tr>\n",
       "    <tr>\n",
       "      <th>8</th>\n",
       "      <td>24</td>\n",
       "      <td>508</td>\n",
       "      <td>2</td>\n",
       "      <td>2</td>\n",
       "      <td>0.229474</td>\n",
       "      <td>1</td>\n",
       "    </tr>\n",
       "    <tr>\n",
       "      <th>9</th>\n",
       "      <td>21</td>\n",
       "      <td>525</td>\n",
       "      <td>2</td>\n",
       "      <td>2</td>\n",
       "      <td>0.228117</td>\n",
       "      <td>1</td>\n",
       "    </tr>\n",
       "    <tr>\n",
       "      <th>10</th>\n",
       "      <td>26</td>\n",
       "      <td>2071</td>\n",
       "      <td>2</td>\n",
       "      <td>2</td>\n",
       "      <td>-0.101101</td>\n",
       "      <td>-1</td>\n",
       "    </tr>\n",
       "    <tr>\n",
       "      <th>11</th>\n",
       "      <td>24</td>\n",
       "      <td>763</td>\n",
       "      <td>2</td>\n",
       "      <td>2</td>\n",
       "      <td>0.184059</td>\n",
       "      <td>1</td>\n",
       "    </tr>\n",
       "    <tr>\n",
       "      <th>12</th>\n",
       "      <td>21</td>\n",
       "      <td>600</td>\n",
       "      <td>2</td>\n",
       "      <td>2</td>\n",
       "      <td>0.220180</td>\n",
       "      <td>1</td>\n",
       "    </tr>\n",
       "    <tr>\n",
       "      <th>13</th>\n",
       "      <td>20</td>\n",
       "      <td>1068</td>\n",
       "      <td>2</td>\n",
       "      <td>2</td>\n",
       "      <td>0.056730</td>\n",
       "      <td>1</td>\n",
       "    </tr>\n",
       "    <tr>\n",
       "      <th>14</th>\n",
       "      <td>24</td>\n",
       "      <td>642</td>\n",
       "      <td>2</td>\n",
       "      <td>2</td>\n",
       "      <td>0.217865</td>\n",
       "      <td>1</td>\n",
       "    </tr>\n",
       "    <tr>\n",
       "      <th>15</th>\n",
       "      <td>21</td>\n",
       "      <td>466</td>\n",
       "      <td>2</td>\n",
       "      <td>2</td>\n",
       "      <td>0.228078</td>\n",
       "      <td>1</td>\n",
       "    </tr>\n",
       "    <tr>\n",
       "      <th>16</th>\n",
       "      <td>24</td>\n",
       "      <td>934</td>\n",
       "      <td>2</td>\n",
       "      <td>1</td>\n",
       "      <td>0.131751</td>\n",
       "      <td>1</td>\n",
       "    </tr>\n",
       "    <tr>\n",
       "      <th>17</th>\n",
       "      <td>20</td>\n",
       "      <td>691</td>\n",
       "      <td>2</td>\n",
       "      <td>2</td>\n",
       "      <td>0.213450</td>\n",
       "      <td>1</td>\n",
       "    </tr>\n",
       "    <tr>\n",
       "      <th>18</th>\n",
       "      <td>21</td>\n",
       "      <td>742</td>\n",
       "      <td>2</td>\n",
       "      <td>2</td>\n",
       "      <td>0.187962</td>\n",
       "      <td>1</td>\n",
       "    </tr>\n",
       "    <tr>\n",
       "      <th>19</th>\n",
       "      <td>24</td>\n",
       "      <td>672</td>\n",
       "      <td>2</td>\n",
       "      <td>2</td>\n",
       "      <td>0.207728</td>\n",
       "      <td>1</td>\n",
       "    </tr>\n",
       "  </tbody>\n",
       "</table>\n",
       "</div>"
      ],
      "text/plain": [
       "    User  seconds  acepta entrevista  estufa    scores  anomaly\n",
       "0     13      682                  2       2  0.212232        1\n",
       "1     13      461                  2       2  0.233269        1\n",
       "2     22      384                  2       2  0.216267        1\n",
       "3     21     1742                  2       2 -0.066753       -1\n",
       "4     21      669                  2       2  0.205123        1\n",
       "5     24      797                  2       2  0.167121        1\n",
       "6     21      522                  2       2  0.223788        1\n",
       "7     20      645                  2       2  0.219077        1\n",
       "8     24      508                  2       2  0.229474        1\n",
       "9     21      525                  2       2  0.228117        1\n",
       "10    26     2071                  2       2 -0.101101       -1\n",
       "11    24      763                  2       2  0.184059        1\n",
       "12    21      600                  2       2  0.220180        1\n",
       "13    20     1068                  2       2  0.056730        1\n",
       "14    24      642                  2       2  0.217865        1\n",
       "15    21      466                  2       2  0.228078        1\n",
       "16    24      934                  2       1  0.131751        1\n",
       "17    20      691                  2       2  0.213450        1\n",
       "18    21      742                  2       2  0.187962        1\n",
       "19    24      672                  2       2  0.207728        1"
      ]
     },
     "execution_count": 409,
     "metadata": {},
     "output_type": "execute_result"
    }
   ],
   "source": [
    "#obteniedo columns \"scores\" en base a los resultados de analisis\n",
    "poll['scores']=model.decision_function(poll[['seconds']]) \n",
    "\n",
    "# marcaremos anomalias (outliers) en una nueva columna identificandolas con \"-1\"\n",
    "poll['anomaly']=model.predict(poll[['seconds']]) \n",
    "poll.head(20)"
   ]
  },
  {
   "cell_type": "code",
   "execution_count": 410,
   "metadata": {},
   "outputs": [
    {
     "data": {
      "text/html": [
       "<div>\n",
       "<style scoped>\n",
       "    .dataframe tbody tr th:only-of-type {\n",
       "        vertical-align: middle;\n",
       "    }\n",
       "\n",
       "    .dataframe tbody tr th {\n",
       "        vertical-align: top;\n",
       "    }\n",
       "\n",
       "    .dataframe thead th {\n",
       "        text-align: right;\n",
       "    }\n",
       "</style>\n",
       "<table border=\"1\" class=\"dataframe\">\n",
       "  <thead>\n",
       "    <tr style=\"text-align: right;\">\n",
       "      <th></th>\n",
       "      <th>User</th>\n",
       "      <th>seconds</th>\n",
       "      <th>acepta entrevista</th>\n",
       "      <th>estufa</th>\n",
       "      <th>scores</th>\n",
       "      <th>anomaly</th>\n",
       "    </tr>\n",
       "  </thead>\n",
       "  <tbody>\n",
       "    <tr>\n",
       "      <th>3</th>\n",
       "      <td>21</td>\n",
       "      <td>1742</td>\n",
       "      <td>2</td>\n",
       "      <td>2</td>\n",
       "      <td>-0.066753</td>\n",
       "      <td>-1</td>\n",
       "    </tr>\n",
       "    <tr>\n",
       "      <th>10</th>\n",
       "      <td>26</td>\n",
       "      <td>2071</td>\n",
       "      <td>2</td>\n",
       "      <td>2</td>\n",
       "      <td>-0.101101</td>\n",
       "      <td>-1</td>\n",
       "    </tr>\n",
       "    <tr>\n",
       "      <th>30</th>\n",
       "      <td>20</td>\n",
       "      <td>1523</td>\n",
       "      <td>2</td>\n",
       "      <td>2</td>\n",
       "      <td>-0.033738</td>\n",
       "      <td>-1</td>\n",
       "    </tr>\n",
       "    <tr>\n",
       "      <th>76</th>\n",
       "      <td>20</td>\n",
       "      <td>0</td>\n",
       "      <td>2</td>\n",
       "      <td>2</td>\n",
       "      <td>-0.049412</td>\n",
       "      <td>-1</td>\n",
       "    </tr>\n",
       "    <tr>\n",
       "      <th>87</th>\n",
       "      <td>24</td>\n",
       "      <td>0</td>\n",
       "      <td>2</td>\n",
       "      <td>2</td>\n",
       "      <td>-0.049412</td>\n",
       "      <td>-1</td>\n",
       "    </tr>\n",
       "    <tr>\n",
       "      <th>...</th>\n",
       "      <td>...</td>\n",
       "      <td>...</td>\n",
       "      <td>...</td>\n",
       "      <td>...</td>\n",
       "      <td>...</td>\n",
       "      <td>...</td>\n",
       "    </tr>\n",
       "    <tr>\n",
       "      <th>5818</th>\n",
       "      <td>5</td>\n",
       "      <td>44</td>\n",
       "      <td>1</td>\n",
       "      <td>0</td>\n",
       "      <td>-0.001692</td>\n",
       "      <td>-1</td>\n",
       "    </tr>\n",
       "    <tr>\n",
       "      <th>5819</th>\n",
       "      <td>0</td>\n",
       "      <td>152</td>\n",
       "      <td>0</td>\n",
       "      <td>0</td>\n",
       "      <td>-0.006826</td>\n",
       "      <td>-1</td>\n",
       "    </tr>\n",
       "    <tr>\n",
       "      <th>5820</th>\n",
       "      <td>5</td>\n",
       "      <td>134</td>\n",
       "      <td>0</td>\n",
       "      <td>0</td>\n",
       "      <td>-0.018580</td>\n",
       "      <td>-1</td>\n",
       "    </tr>\n",
       "    <tr>\n",
       "      <th>5821</th>\n",
       "      <td>4</td>\n",
       "      <td>59</td>\n",
       "      <td>0</td>\n",
       "      <td>0</td>\n",
       "      <td>-0.007269</td>\n",
       "      <td>-1</td>\n",
       "    </tr>\n",
       "    <tr>\n",
       "      <th>5822</th>\n",
       "      <td>6</td>\n",
       "      <td>155</td>\n",
       "      <td>0</td>\n",
       "      <td>0</td>\n",
       "      <td>-0.003420</td>\n",
       "      <td>-1</td>\n",
       "    </tr>\n",
       "  </tbody>\n",
       "</table>\n",
       "<p>290 rows × 6 columns</p>\n",
       "</div>"
      ],
      "text/plain": [
       "      User  seconds  acepta entrevista  estufa    scores  anomaly\n",
       "3       21     1742                  2       2 -0.066753       -1\n",
       "10      26     2071                  2       2 -0.101101       -1\n",
       "30      20     1523                  2       2 -0.033738       -1\n",
       "76      20        0                  2       2 -0.049412       -1\n",
       "87      24        0                  2       2 -0.049412       -1\n",
       "...    ...      ...                ...     ...       ...      ...\n",
       "5818     5       44                  1       0 -0.001692       -1\n",
       "5819     0      152                  0       0 -0.006826       -1\n",
       "5820     5      134                  0       0 -0.018580       -1\n",
       "5821     4       59                  0       0 -0.007269       -1\n",
       "5822     6      155                  0       0 -0.003420       -1\n",
       "\n",
       "[290 rows x 6 columns]"
      ]
     },
     "execution_count": 410,
     "metadata": {},
     "output_type": "execute_result"
    }
   ],
   "source": [
    "#nuevo dataframe con los outliers\n",
    "anomalies =poll.loc[poll['anomaly']==-1]\n",
    "anomalies_index=list(anomalies.index)\n",
    "anomalies"
   ]
  },
  {
   "cell_type": "code",
   "execution_count": 411,
   "metadata": {},
   "outputs": [
    {
     "data": {
      "text/plain": [
       "<matplotlib.collections.PathCollection at 0x7f83602bc2b0>"
      ]
     },
     "execution_count": 411,
     "metadata": {},
     "output_type": "execute_result"
    },
    {
     "data": {
      "image/png": "[encoded data removed]",
      "text/plain": [
       "<Figure size 1440x720 with 1 Axes>"
      ]
     },
     "metadata": {},
     "output_type": "display_data"
    }
   ],
   "source": [
    "# Graficando nuestro dataframe original de color azul\n",
    "plt.scatter(poll[\"User\"], poll[\"seconds\"], color = \"b\", s = 65)\n",
    "# Graficando outliers de color rojo\n",
    "plt.scatter(anomalies[\"User\"], anomalies[\"seconds\"], color = \"r\")"
   ]
  },
  {
   "cell_type": "code",
   "execution_count": null,
   "metadata": {},
   "outputs": [],
   "source": []
  }
 ],
 "metadata": {
  "kernelspec": {
   "display_name": "Python 3",
   "language": "python",
   "name": "python3"
  },
  "language_info": {
   "codemirror_mode": {
    "name": "ipython",
    "version": 3
   },
   "file_extension": ".py",
   "mimetype": "text/x-python",
   "name": "python",
   "nbconvert_exporter": "python",
   "pygments_lexer": "ipython3",
   "version": "3.8.3"
  }
 },
 "nbformat": 4,
 "nbformat_minor": 4
}
